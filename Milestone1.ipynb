{
 "cells": [
  {
   "cell_type": "markdown",
   "id": "be94a0ac-fe44-4b67-b8cb-06e6b79f0f3a",
   "metadata": {},
   "source": [
    "# Milestone 1: Groups, Data, Website, and Extraction, Transformation, and Load"
   ]
  },
  {
   "cell_type": "markdown",
   "id": "3f8aba38-d8b2-44ff-9d86-fcdac19fa623",
   "metadata": {},
   "source": [
    "## Are public parks Accessible in Palm Beach County?"
   ]
  },
  {
   "cell_type": "markdown",
   "id": "59c1787a-aab4-48b7-8e52-ba07f50945d8",
   "metadata": {},
   "source": [
    "Name: Wesnahika Charles"
   ]
  },
  {
   "cell_type": "markdown",
   "id": "db54adc3-53b3-4c0e-b568-bb25e332ff30",
   "metadata": {},
   "source": [
    "Github Webpage Link: "
   ]
  },
  {
   "cell_type": "markdown",
   "id": "357a1a55-68ba-4600-b803-167c82dbdac1",
   "metadata": {},
   "source": [
    "### Introduction"
   ]
  },
  {
   "cell_type": "markdown",
   "id": "ca377375-4aec-4bdd-a30b-b801b2223e10",
   "metadata": {},
   "source": [
    "> In this project the general question I want to solve over all would be, within Palm Beach County Florida, are the public parks here accessible, in the sense that, are they accessible to bus stops, residential areas, train stations, etc. I would also like to figure out exactly where in Palm Beach County has the most accessible public parks and which has the least accessible ones. I have already hypothesized that areas near downtown West Palm Beach may have the most accessible parks due to the high concentration of public transport, however, given how I have lived in the area for some time, the parks are still a quite a distance away from the actual area. I would also think that areas more out towards Lake Okeechobee would be less accessible to considering, from what I’ve seen, how semi-rural and sparsely populated it is.\n",
    ">\n",
    "> The first piece of data I would utilize would be the basic location data of the parks in Palm Beach County sourced from the Florida Geospatial Open Data Portal. This will give me the name of the park, the address, the county (to which I would just filter on Palm Beach), the type of Park, whether it has a pool or as well as longitude and latitude. The question would be simple, what are the exact locations of these parks? This dataset would also help me figure out how many public parks we have in our county as well.\n",
    ">\n",
    "> The second part of this project would be how we would gauge accessibility and we would need a couple of data sources for this. With open data coming from Palm Beach TPA, we will be able to derive the location of all Amtrak and Tri-Rail Stations in Palm Beach County, using the Palm Beach County Open Data Page, we could also extract the bus stops that are in the area, with this we would be able to look at the amount of bus stops that are nearest to each park. The question I would ask using these datasets would be how many of these transit areas are located around these parks, and which location, say for example municipality (at a general level) or park has the most transit stops closest to them. I believe I will most likely measure this by counting the amount of transit areas that are less than a 2-mile radius, I could also just convert the distance between two longitude and latitude points to get the number of miles as well. \n",
    ">\n",
    "> I will be working on this project by myself, allocating several hours a week to working on it and making progress, I will employ the use of git as version control to make sure that my progress is being saved correctly om GitHub. "
   ]
  },
  {
   "cell_type": "markdown",
   "id": "61d0d226-3f92-48d3-a0ef-c043be513cdc",
   "metadata": {},
   "source": [
    "### Loading the Datasets"
   ]
  },
  {
   "cell_type": "code",
   "execution_count": 45,
   "id": "8cab204b-52f8-4b60-ac18-5a3bc9609265",
   "metadata": {},
   "outputs": [],
   "source": [
    "import pandas as pd \n",
    "import numpy as np\n",
    "import matplotlib.pyplot as plt"
   ]
  },
  {
   "cell_type": "code",
   "execution_count": 35,
   "id": "6d188f40-fe8e-4386-a67b-4fb64e095d67",
   "metadata": {},
   "outputs": [
    {
     "name": "stdout",
     "output_type": "stream",
     "text": [
      "/home/jovyan/notebooks\n"
     ]
    }
   ],
   "source": [
    "import os\n",
    "print(os.getcwd())"
   ]
  },
  {
   "cell_type": "markdown",
   "id": "15b3230e-5c1f-486f-b841-b919efc1218a",
   "metadata": {},
   "source": [
    "#### First I will load the Actual Parks Data"
   ]
  },
  {
   "cell_type": "code",
   "execution_count": 36,
   "id": "564af8bf-a7f9-4a49-94fd-0d63834c3ae6",
   "metadata": {},
   "outputs": [],
   "source": [
    "Florida_Parks_df = pd.read_csv('Final Tutorial/Data/Park_and_Recreation_Areas%2C_2019.csv')"
   ]
  },
  {
   "cell_type": "code",
   "execution_count": 37,
   "id": "8b015b65-72f1-473a-b384-21ac10c2c0c7",
   "metadata": {},
   "outputs": [
    {
     "data": {
      "text/html": [
       "<div>\n",
       "<style scoped>\n",
       "    .dataframe tbody tr th:only-of-type {\n",
       "        vertical-align: middle;\n",
       "    }\n",
       "\n",
       "    .dataframe tbody tr th {\n",
       "        vertical-align: top;\n",
       "    }\n",
       "\n",
       "    .dataframe thead th {\n",
       "        text-align: right;\n",
       "    }\n",
       "</style>\n",
       "<table border=\"1\" class=\"dataframe\">\n",
       "  <thead>\n",
       "    <tr style=\"text-align: right;\">\n",
       "      <th></th>\n",
       "      <th>X</th>\n",
       "      <th>Y</th>\n",
       "      <th>FID</th>\n",
       "      <th>PARCELID</th>\n",
       "      <th>NAME</th>\n",
       "      <th>ADDRESS</th>\n",
       "      <th>CITY</th>\n",
       "      <th>ZIPCODE</th>\n",
       "      <th>COUNTY</th>\n",
       "      <th>TYPE</th>\n",
       "      <th>...</th>\n",
       "      <th>LONG_DD</th>\n",
       "      <th>MGRS</th>\n",
       "      <th>GOOGLEMAP</th>\n",
       "      <th>GCID</th>\n",
       "      <th>ACRES</th>\n",
       "      <th>DESCRIPT</th>\n",
       "      <th>FLAG</th>\n",
       "      <th>UPDATE_DAY</th>\n",
       "      <th>FGDLAQDATE</th>\n",
       "      <th>AUTOID</th>\n",
       "    </tr>\n",
       "  </thead>\n",
       "  <tbody>\n",
       "    <tr>\n",
       "      <th>0</th>\n",
       "      <td>-80.834464</td>\n",
       "      <td>28.460235</td>\n",
       "      <td>1</td>\n",
       "      <td>23352800251</td>\n",
       "      <td>FAY LAKE WILDERNESS PARK</td>\n",
       "      <td>6300 FAY BLVD</td>\n",
       "      <td>COCOA</td>\n",
       "      <td>32927</td>\n",
       "      <td>BREVARD</td>\n",
       "      <td>NATURE PARK</td>\n",
       "      <td>...</td>\n",
       "      <td>-80.834470</td>\n",
       "      <td>17RNM1620648199</td>\n",
       "      <td>https://www.google.com/maps/place/17RNM1620648199</td>\n",
       "      <td>289</td>\n",
       "      <td>164.457</td>\n",
       "      <td>FAY LAKE WILDERNESS PARK</td>\n",
       "      <td>V</td>\n",
       "      <td>2012/02/02 00:00:00+00</td>\n",
       "      <td>2019/05/29 00:00:00+00</td>\n",
       "      <td>1</td>\n",
       "    </tr>\n",
       "    <tr>\n",
       "      <th>1</th>\n",
       "      <td>-80.695572</td>\n",
       "      <td>28.442414</td>\n",
       "      <td>2</td>\n",
       "      <td>233635001</td>\n",
       "      <td>KINGS PARK</td>\n",
       "      <td>995 CHASE HAMMOCK RD</td>\n",
       "      <td>MERRITT ISLAND</td>\n",
       "      <td>32953</td>\n",
       "      <td>BREVARD</td>\n",
       "      <td>NATURE PARK / WATER ACCESS</td>\n",
       "      <td>...</td>\n",
       "      <td>-80.695579</td>\n",
       "      <td>17RNM2980846251</td>\n",
       "      <td>https://www.google.com/maps/place/17RNM2980846251</td>\n",
       "      <td>290</td>\n",
       "      <td>241.735</td>\n",
       "      <td>KINGS PARK</td>\n",
       "      <td>V</td>\n",
       "      <td>2018/06/20 00:00:00+00</td>\n",
       "      <td>2019/05/29 00:00:00+00</td>\n",
       "      <td>2</td>\n",
       "    </tr>\n",
       "    <tr>\n",
       "      <th>2</th>\n",
       "      <td>-80.718832</td>\n",
       "      <td>28.446211</td>\n",
       "      <td>3</td>\n",
       "      <td>233634006</td>\n",
       "      <td>MANATEE COVE PARK &amp; BOAT RAMP</td>\n",
       "      <td>4905 N TROPICAL TRL</td>\n",
       "      <td>MERRITT ISLAND</td>\n",
       "      <td>32953</td>\n",
       "      <td>BREVARD</td>\n",
       "      <td>NATURE PARK / BOAT RAMP</td>\n",
       "      <td>...</td>\n",
       "      <td>-80.718839</td>\n",
       "      <td>17RNM2753046666</td>\n",
       "      <td>https://www.google.com/maps/place/17RNM2753046666</td>\n",
       "      <td>291</td>\n",
       "      <td>29.093</td>\n",
       "      <td>MANATEE COVE PARK &amp; BOAT RAMP</td>\n",
       "      <td>V</td>\n",
       "      <td>2012/02/02 00:00:00+00</td>\n",
       "      <td>2019/05/29 00:00:00+00</td>\n",
       "      <td>3</td>\n",
       "    </tr>\n",
       "    <tr>\n",
       "      <th>3</th>\n",
       "      <td>-80.775587</td>\n",
       "      <td>28.438571</td>\n",
       "      <td>4</td>\n",
       "      <td>233536004</td>\n",
       "      <td>SPACE COAST COMMUNITY SPORTS COMPLEX</td>\n",
       "      <td>662 CANAVERAL GROVES BLVD</td>\n",
       "      <td>COCOA</td>\n",
       "      <td>32927</td>\n",
       "      <td>BREVARD</td>\n",
       "      <td>NEIGHBORHOOD PARK / ATHLETIC</td>\n",
       "      <td>...</td>\n",
       "      <td>-80.775593</td>\n",
       "      <td>17RNM2197445808</td>\n",
       "      <td>https://www.google.com/maps/place/17RNM2197445808</td>\n",
       "      <td>292</td>\n",
       "      <td>199.922</td>\n",
       "      <td>SPACE COAST COMMUNITY SPORTS COMPLEX</td>\n",
       "      <td>V</td>\n",
       "      <td>2015/04/27 00:00:00+00</td>\n",
       "      <td>2019/05/29 00:00:00+00</td>\n",
       "      <td>4</td>\n",
       "    </tr>\n",
       "    <tr>\n",
       "      <th>4</th>\n",
       "      <td>-80.764418</td>\n",
       "      <td>28.438502</td>\n",
       "      <td>5</td>\n",
       "      <td>23363100773</td>\n",
       "      <td>BERNICE G JACKSON PARK</td>\n",
       "      <td>4201 HIGHWAY 1 N</td>\n",
       "      <td>COCOA</td>\n",
       "      <td>32927</td>\n",
       "      <td>BREVARD</td>\n",
       "      <td>NEIGHBORHOOD PARK</td>\n",
       "      <td>...</td>\n",
       "      <td>-80.764425</td>\n",
       "      <td>17RNM2306845802</td>\n",
       "      <td>https://www.google.com/maps/place/17RNM2306845802</td>\n",
       "      <td>293</td>\n",
       "      <td>20.329</td>\n",
       "      <td>BERNICE G JACKSON PARK</td>\n",
       "      <td>V</td>\n",
       "      <td>2015/04/27 00:00:00+00</td>\n",
       "      <td>2019/05/29 00:00:00+00</td>\n",
       "      <td>5</td>\n",
       "    </tr>\n",
       "  </tbody>\n",
       "</table>\n",
       "<p>5 rows × 31 columns</p>\n",
       "</div>"
      ],
      "text/plain": [
       "           X          Y  FID     PARCELID  \\\n",
       "0 -80.834464  28.460235    1  23352800251   \n",
       "1 -80.695572  28.442414    2    233635001   \n",
       "2 -80.718832  28.446211    3    233634006   \n",
       "3 -80.775587  28.438571    4    233536004   \n",
       "4 -80.764418  28.438502    5  23363100773   \n",
       "\n",
       "                                   NAME                    ADDRESS  \\\n",
       "0              FAY LAKE WILDERNESS PARK              6300 FAY BLVD   \n",
       "1                            KINGS PARK       995 CHASE HAMMOCK RD   \n",
       "2         MANATEE COVE PARK & BOAT RAMP        4905 N TROPICAL TRL   \n",
       "3  SPACE COAST COMMUNITY SPORTS COMPLEX  662 CANAVERAL GROVES BLVD   \n",
       "4                BERNICE G JACKSON PARK           4201 HIGHWAY 1 N   \n",
       "\n",
       "             CITY  ZIPCODE   COUNTY                          TYPE  ...  \\\n",
       "0           COCOA    32927  BREVARD                   NATURE PARK  ...   \n",
       "1  MERRITT ISLAND    32953  BREVARD    NATURE PARK / WATER ACCESS  ...   \n",
       "2  MERRITT ISLAND    32953  BREVARD       NATURE PARK / BOAT RAMP  ...   \n",
       "3           COCOA    32927  BREVARD  NEIGHBORHOOD PARK / ATHLETIC  ...   \n",
       "4           COCOA    32927  BREVARD             NEIGHBORHOOD PARK  ...   \n",
       "\n",
       "     LONG_DD             MGRS  \\\n",
       "0 -80.834470  17RNM1620648199   \n",
       "1 -80.695579  17RNM2980846251   \n",
       "2 -80.718839  17RNM2753046666   \n",
       "3 -80.775593  17RNM2197445808   \n",
       "4 -80.764425  17RNM2306845802   \n",
       "\n",
       "                                           GOOGLEMAP GCID    ACRES  \\\n",
       "0  https://www.google.com/maps/place/17RNM1620648199  289  164.457   \n",
       "1  https://www.google.com/maps/place/17RNM2980846251  290  241.735   \n",
       "2  https://www.google.com/maps/place/17RNM2753046666  291   29.093   \n",
       "3  https://www.google.com/maps/place/17RNM2197445808  292  199.922   \n",
       "4  https://www.google.com/maps/place/17RNM2306845802  293   20.329   \n",
       "\n",
       "                               DESCRIPT FLAG              UPDATE_DAY  \\\n",
       "0              FAY LAKE WILDERNESS PARK    V  2012/02/02 00:00:00+00   \n",
       "1                            KINGS PARK    V  2018/06/20 00:00:00+00   \n",
       "2         MANATEE COVE PARK & BOAT RAMP    V  2012/02/02 00:00:00+00   \n",
       "3  SPACE COAST COMMUNITY SPORTS COMPLEX    V  2015/04/27 00:00:00+00   \n",
       "4                BERNICE G JACKSON PARK    V  2015/04/27 00:00:00+00   \n",
       "\n",
       "               FGDLAQDATE AUTOID  \n",
       "0  2019/05/29 00:00:00+00      1  \n",
       "1  2019/05/29 00:00:00+00      2  \n",
       "2  2019/05/29 00:00:00+00      3  \n",
       "3  2019/05/29 00:00:00+00      4  \n",
       "4  2019/05/29 00:00:00+00      5  \n",
       "\n",
       "[5 rows x 31 columns]"
      ]
     },
     "execution_count": 37,
     "metadata": {},
     "output_type": "execute_result"
    }
   ],
   "source": [
    "Florida_Parks_df.head()"
   ]
  },
  {
   "cell_type": "code",
   "execution_count": 52,
   "id": "ce1a976e-7c19-4528-b671-5bf5c80c4a3e",
   "metadata": {},
   "outputs": [
    {
     "data": {
      "text/plain": [
       "Index(['FID', 'PARCELID', 'NAME', 'ADDRESS', 'CITY', 'ZIPCODE', 'COUNTY',\n",
       "       'TYPE', 'POOL', 'BOATRAMPID', 'NPSSITE_ID', 'ST_PARK_ID', 'OWNER',\n",
       "       'OPERATING', 'OP_CLASS', 'FSOURCE', 'DATASOURCE', 'LAT_DD', 'LONG_DD',\n",
       "       'GCID', 'ACRES', 'DESCRIPT', 'FLAG'],\n",
       "      dtype='object')"
      ]
     },
     "execution_count": 52,
     "metadata": {},
     "output_type": "execute_result"
    }
   ],
   "source": [
    "Florida_Parks_df.columns"
   ]
  },
  {
   "cell_type": "markdown",
   "id": "bca59af5-da3c-4339-bda1-b60d071076c1",
   "metadata": {},
   "source": [
    "> For the most part it seems like the data fits the qualification for being Tidy, it doesm't look like there is any duplicate columns showing the same data, and every instance has a row and every value that is attributed to that instance has its own cell. This is a ton of information though so lets shave off some column names!"
   ]
  },
  {
   "cell_type": "code",
   "execution_count": 39,
   "id": "6eede097-50de-4b1a-b5f9-de2ad6c0a60a",
   "metadata": {},
   "outputs": [],
   "source": [
    "Florida_Parks_df.drop([\"WEB_LINK\", \"GOOGLEMAP\", \"MGRS\", \"X\", \"Y\", \"AUTOID\", \"UPDATE_DAY\", \"FGDLAQDATE\"], axis = 1, inplace = True)"
   ]
  },
  {
   "cell_type": "markdown",
   "id": "1cea550e-7637-4ea9-affe-676a72131670",
   "metadata": {},
   "source": [
    "#### Then I will filter for just Palm Beach County"
   ]
  },
  {
   "cell_type": "code",
   "execution_count": 53,
   "id": "c5834948-e937-4bf8-abc8-b494e54f4ceb",
   "metadata": {},
   "outputs": [
    {
     "name": "stdout",
     "output_type": "stream",
     "text": [
      "        COUNTY  COUNT OF PARKS\n",
      "0      ALACHUA             174\n",
      "1        BAKER              24\n",
      "2          BAY             292\n",
      "3     BRADFORD              28\n",
      "4      BREVARD             489\n",
      "..         ...             ...\n",
      "62       UNION              17\n",
      "63     VOLUSIA             561\n",
      "64     WAKULLA              52\n",
      "65      WALTON             157\n",
      "66  WASHINGTON              86\n",
      "\n",
      "[67 rows x 2 columns]\n",
      "        COUNTY  COUNT OF PARKS\n",
      "49  PALM BEACH             685\n"
     ]
    }
   ],
   "source": [
    "# First I am curious on how many parks are in each county in Florida\n",
    "County_Park_Count = Florida_Parks_df.groupby(\"COUNTY\")[\"NAME\"].count()\n",
    "County_Park_Count_df = County_Park_Count.reset_index()\n",
    "County_Park_Count_df.columns = [\"COUNTY\", \"COUNT OF PARKS\"]\n",
    "print(County_Park_Count_df)\n",
    "\n",
    "#Then I would like to get the number of parks in Palm Beach County specifically\n",
    "Palm_Beach_Count = County_Park_Count_df[County_Park_Count_df[\"COUNTY\"] == \"PALM BEACH\"]\n",
    "print(Palm_Beach_Count)"
   ]
  },
  {
   "cell_type": "markdown",
   "id": "c9d1e57b-b105-4d05-a087-df70ee167372",
   "metadata": {},
   "source": [
    "> Wow looks like we have a lot of parks in our county! But I wonder how many of them are public vs private..."
   ]
  },
  {
   "cell_type": "markdown",
   "id": "aac44703-410b-49da-9a9c-d778c82966a2",
   "metadata": {},
   "source": [
    "### EDA on Parks in Palm Beach County"
   ]
  },
  {
   "cell_type": "markdown",
   "id": "f2d547e2-4460-4746-8749-254d35fe093d",
   "metadata": {},
   "source": [
    "#### Public vs Private Parks"
   ]
  },
  {
   "cell_type": "code",
   "execution_count": 54,
   "id": "2a599569-7f6a-49f8-bb2a-586676fe6269",
   "metadata": {},
   "outputs": [
    {
     "data": {
      "text/plain": [
       "Text(0, 0.5, 'count')"
      ]
     },
     "execution_count": 54,
     "metadata": {},
     "output_type": "execute_result"
    },
    {
     "data": {
      "image/png": "[encoded data removed]",
      "text/plain": [
       "<Figure size 1400x800 with 1 Axes>"
      ]
     },
     "metadata": {},
     "output_type": "display_data"
    }
   ],
   "source": [
    "# First I want to filter the original dataset to only contain PaLm beach county parks\n",
    "Palm_Beach_Parks = Florida_Parks_df[Florida_Parks_df[\"COUNTY\"] == \"PALM BEACH\"]\n",
    "\n",
    "#Then I will create a bar chart that will show how many parks are Private or Public in Palm Beach County\n",
    "ax = Palm_Beach_Parks[\"OP_CLASS\"].value_counts().plot(kind='bar',\n",
    "                                    figsize=(14,8),\n",
    "                                    title=\"Public vs Private\")\n",
    "ax.set_xlabel(\"OP_CLASS\")\n",
    "ax.set_ylabel(\"count\")\n"
   ]
  },
  {
   "cell_type": "markdown",
   "id": "3c15d002-d1dd-43f8-ac5d-e21381d155e2",
   "metadata": {},
   "source": [
    "> Wow! Looks like the VAST majority of the parks here in Palm Beach County are overwhelmingly public! I wonder which ones are the private ones.."
   ]
  },
  {
   "cell_type": "code",
   "execution_count": 57,
   "id": "a200a1de-4c9e-4207-a10e-d8cd2c5e2378",
   "metadata": {},
   "outputs": [
    {
     "name": "stdout",
     "output_type": "stream",
     "text": [
      "8139            BOCA RATON\n",
      "8146         BOYNTON BEACH\n",
      "8147         BOYNTON BEACH\n",
      "8178       WEST PALM BEACH\n",
      "8881    PALM BEACH GARDENS\n",
      "9198            BOCA RATON\n",
      "Name: CITY, dtype: object\n"
     ]
    }
   ],
   "source": [
    "Private_Parks = Palm_Beach_Parks[Palm_Beach_Parks[\"OP_CLASS\"] == \"PRIVATE\"]\n",
    "City_Of_Private_Parks = Private_Parks[\"CITY\"]\n",
    "print(City_Of_Private_Parks)"
   ]
  },
  {
   "cell_type": "markdown",
   "id": "d1f6f124-6d0b-4608-8b07-311495ff1a34",
   "metadata": {},
   "source": [
    "> Interesting so it seems like 66.67% of all of the Private Parks are located in both Boyton Beach and Boca Raton, the southern half of Palm Beach County"
   ]
  },
  {
   "cell_type": "markdown",
   "id": "ce018105-afc2-4d48-bf81-ecc4d7ae77a1",
   "metadata": {},
   "source": [
    "#### Second I will load the Transit Data (bus stops)"
   ]
  },
  {
   "cell_type": "code",
   "execution_count": 59,
   "id": "2454ab2e-dce7-4ac2-ae94-dc0c788a7bde",
   "metadata": {},
   "outputs": [],
   "source": [
    "PB_busstops_df = pd.read_csv('Final Tutorial/Data/Bus_Stops.csv')"
   ]
  },
  {
   "cell_type": "code",
   "execution_count": 60,
   "id": "a0981b43-c258-4c09-9993-8f260e50ceb3",
   "metadata": {},
   "outputs": [
    {
     "data": {
      "text/html": [
       "<div>\n",
       "<style scoped>\n",
       "    .dataframe tbody tr th:only-of-type {\n",
       "        vertical-align: middle;\n",
       "    }\n",
       "\n",
       "    .dataframe tbody tr th {\n",
       "        vertical-align: top;\n",
       "    }\n",
       "\n",
       "    .dataframe thead th {\n",
       "        text-align: right;\n",
       "    }\n",
       "</style>\n",
       "<table border=\"1\" class=\"dataframe\">\n",
       "  <thead>\n",
       "    <tr style=\"text-align: right;\">\n",
       "      <th></th>\n",
       "      <th>X</th>\n",
       "      <th>Y</th>\n",
       "      <th>OBJECTID</th>\n",
       "      <th>STOPNUM</th>\n",
       "      <th>STOPABBR</th>\n",
       "      <th>STOPNAME</th>\n",
       "      <th>ONSTREET</th>\n",
       "      <th>ATSTREET</th>\n",
       "      <th>LON</th>\n",
       "      <th>LAT</th>\n",
       "      <th>...</th>\n",
       "      <th>TELEPHONE</th>\n",
       "      <th>BICYCLE</th>\n",
       "      <th>TPFIELD00</th>\n",
       "      <th>TPFIELD01</th>\n",
       "      <th>TPFIELD02</th>\n",
       "      <th>TPFIELD03</th>\n",
       "      <th>NODEABBR</th>\n",
       "      <th>LINEABBR</th>\n",
       "      <th>LINENAME</th>\n",
       "      <th>LINEDIRID</th>\n",
       "    </tr>\n",
       "  </thead>\n",
       "  <tbody>\n",
       "    <tr>\n",
       "      <th>0</th>\n",
       "      <td>965158.304762</td>\n",
       "      <td>868684.445238</td>\n",
       "      <td>1</td>\n",
       "      <td>NaN</td>\n",
       "      <td>100</td>\n",
       "      <td>DIXIE HWY @ 8TH ST</td>\n",
       "      <td>NaN</td>\n",
       "      <td>NaN</td>\n",
       "      <td>-80053424</td>\n",
       "      <td>26720404</td>\n",
       "      <td>...</td>\n",
       "      <td>NaN</td>\n",
       "      <td>NaN</td>\n",
       "      <td>NaN</td>\n",
       "      <td>NaN</td>\n",
       "      <td>NaN</td>\n",
       "      <td>NaN</td>\n",
       "      <td>NaN</td>\n",
       "      <td>NaN</td>\n",
       "      <td>NaN</td>\n",
       "      <td>NaN</td>\n",
       "    </tr>\n",
       "    <tr>\n",
       "      <th>1</th>\n",
       "      <td>947891.659524</td>\n",
       "      <td>910915.738095</td>\n",
       "      <td>2</td>\n",
       "      <td>NaN</td>\n",
       "      <td>1000</td>\n",
       "      <td>MILITARY TRL @  LARCH AVE</td>\n",
       "      <td>NaN</td>\n",
       "      <td>NaN</td>\n",
       "      <td>-80105404</td>\n",
       "      <td>26836914</td>\n",
       "      <td>...</td>\n",
       "      <td>NaN</td>\n",
       "      <td>NaN</td>\n",
       "      <td>NaN</td>\n",
       "      <td>NaN</td>\n",
       "      <td>NaN</td>\n",
       "      <td>NaN</td>\n",
       "      <td>NaN</td>\n",
       "      <td>NaN</td>\n",
       "      <td>NaN</td>\n",
       "      <td>NaN</td>\n",
       "    </tr>\n",
       "    <tr>\n",
       "      <th>2</th>\n",
       "      <td>947865.353968</td>\n",
       "      <td>910020.874603</td>\n",
       "      <td>3</td>\n",
       "      <td>NaN</td>\n",
       "      <td>1001</td>\n",
       "      <td>MILITARY TRL &amp; JOHNSON DAIRY RD</td>\n",
       "      <td>NaN</td>\n",
       "      <td>NaN</td>\n",
       "      <td>-80105504</td>\n",
       "      <td>26834453</td>\n",
       "      <td>...</td>\n",
       "      <td>NaN</td>\n",
       "      <td>NaN</td>\n",
       "      <td>NaN</td>\n",
       "      <td>NaN</td>\n",
       "      <td>NaN</td>\n",
       "      <td>NaN</td>\n",
       "      <td>NaN</td>\n",
       "      <td>NaN</td>\n",
       "      <td>NaN</td>\n",
       "      <td>NaN</td>\n",
       "    </tr>\n",
       "    <tr>\n",
       "      <th>3</th>\n",
       "      <td>947826.810317</td>\n",
       "      <td>908548.257143</td>\n",
       "      <td>4</td>\n",
       "      <td>NaN</td>\n",
       "      <td>1002</td>\n",
       "      <td>MILITARY TRL @ BURNS RD</td>\n",
       "      <td>NaN</td>\n",
       "      <td>NaN</td>\n",
       "      <td>-80105654</td>\n",
       "      <td>26830403</td>\n",
       "      <td>...</td>\n",
       "      <td>NaN</td>\n",
       "      <td>NaN</td>\n",
       "      <td>NaN</td>\n",
       "      <td>NaN</td>\n",
       "      <td>NaN</td>\n",
       "      <td>NaN</td>\n",
       "      <td>NaN</td>\n",
       "      <td>NaN</td>\n",
       "      <td>NaN</td>\n",
       "      <td>NaN</td>\n",
       "    </tr>\n",
       "    <tr>\n",
       "      <th>4</th>\n",
       "      <td>947801.318254</td>\n",
       "      <td>907213.150794</td>\n",
       "      <td>5</td>\n",
       "      <td>NaN</td>\n",
       "      <td>1003</td>\n",
       "      <td>MILITARY TRL &amp;  LILAC</td>\n",
       "      <td>NaN</td>\n",
       "      <td>NaN</td>\n",
       "      <td>-80105761</td>\n",
       "      <td>26826731</td>\n",
       "      <td>...</td>\n",
       "      <td>NaN</td>\n",
       "      <td>NaN</td>\n",
       "      <td>NaN</td>\n",
       "      <td>NaN</td>\n",
       "      <td>NaN</td>\n",
       "      <td>NaN</td>\n",
       "      <td>NaN</td>\n",
       "      <td>NaN</td>\n",
       "      <td>NaN</td>\n",
       "      <td>NaN</td>\n",
       "    </tr>\n",
       "  </tbody>\n",
       "</table>\n",
       "<p>5 rows × 28 columns</p>\n",
       "</div>"
      ],
      "text/plain": [
       "               X              Y  OBJECTID  STOPNUM  STOPABBR  \\\n",
       "0  965158.304762  868684.445238         1      NaN       100   \n",
       "1  947891.659524  910915.738095         2      NaN      1000   \n",
       "2  947865.353968  910020.874603         3      NaN      1001   \n",
       "3  947826.810317  908548.257143         4      NaN      1002   \n",
       "4  947801.318254  907213.150794         5      NaN      1003   \n",
       "\n",
       "                          STOPNAME  ONSTREET  ATSTREET       LON       LAT  \\\n",
       "0               DIXIE HWY @ 8TH ST       NaN       NaN -80053424  26720404   \n",
       "1        MILITARY TRL @  LARCH AVE       NaN       NaN -80105404  26836914   \n",
       "2  MILITARY TRL & JOHNSON DAIRY RD       NaN       NaN -80105504  26834453   \n",
       "3          MILITARY TRL @ BURNS RD       NaN       NaN -80105654  26830403   \n",
       "4            MILITARY TRL &  LILAC       NaN       NaN -80105761  26826731   \n",
       "\n",
       "   ...  TELEPHONE  BICYCLE  TPFIELD00  TPFIELD01  TPFIELD02  TPFIELD03  \\\n",
       "0  ...        NaN      NaN        NaN        NaN        NaN        NaN   \n",
       "1  ...        NaN      NaN        NaN        NaN        NaN        NaN   \n",
       "2  ...        NaN      NaN        NaN        NaN        NaN        NaN   \n",
       "3  ...        NaN      NaN        NaN        NaN        NaN        NaN   \n",
       "4  ...        NaN      NaN        NaN        NaN        NaN        NaN   \n",
       "\n",
       "   NODEABBR  LINEABBR  LINENAME  LINEDIRID  \n",
       "0       NaN       NaN       NaN        NaN  \n",
       "1       NaN       NaN       NaN        NaN  \n",
       "2       NaN       NaN       NaN        NaN  \n",
       "3       NaN       NaN       NaN        NaN  \n",
       "4       NaN       NaN       NaN        NaN  \n",
       "\n",
       "[5 rows x 28 columns]"
      ]
     },
     "execution_count": 60,
     "metadata": {},
     "output_type": "execute_result"
    }
   ],
   "source": [
    "PB_busstops_df.head()"
   ]
  },
  {
   "cell_type": "code",
   "execution_count": 67,
   "id": "a7170fdb-3673-4fda-b8a2-fc0d2cee4394",
   "metadata": {},
   "outputs": [
    {
     "data": {
      "text/plain": [
       "(2979, 28)"
      ]
     },
     "execution_count": 67,
     "metadata": {},
     "output_type": "execute_result"
    }
   ],
   "source": [
    "# Here I will find the dimensions of this dataset, this will show me the number of stops as well as the number of columns \n",
    "PB_busstops_df.shape"
   ]
  },
  {
   "cell_type": "code",
   "execution_count": 61,
   "id": "b45efd2b-3625-4176-9ec8-9c8e527accef",
   "metadata": {},
   "outputs": [
    {
     "data": {
      "text/plain": [
       "Index(['X', 'Y', 'OBJECTID', 'STOPNUM', 'STOPABBR', 'STOPNAME', 'ONSTREET',\n",
       "       'ATSTREET', 'LON', 'LAT', 'FACINGDIR', 'CURBTYPE', 'INSERVICE',\n",
       "       'PREFERRED', 'BENCH', 'SHELTER', 'LIGHTING', 'GARBAGE', 'TELEPHONE',\n",
       "       'BICYCLE', 'TPFIELD00', 'TPFIELD01', 'TPFIELD02', 'TPFIELD03',\n",
       "       'NODEABBR', 'LINEABBR', 'LINENAME', 'LINEDIRID'],\n",
       "      dtype='object')"
      ]
     },
     "execution_count": 61,
     "metadata": {},
     "output_type": "execute_result"
    }
   ],
   "source": [
    "PB_busstops_df.columns"
   ]
  },
  {
   "cell_type": "markdown",
   "id": "b357e8a9-3a8f-45cc-b602-f08b94704834",
   "metadata": {},
   "source": [
    "> Looks like we have some interesting metrics here! I wonder how many bustops are on Miltary Trail..."
   ]
  },
  {
   "cell_type": "markdown",
   "id": "c52b41dd-f72a-4639-a588-54f6cf02e2dc",
   "metadata": {},
   "source": [
    "### EDA on Bus Stop Locations"
   ]
  },
  {
   "cell_type": "code",
   "execution_count": 64,
   "id": "44fd9580-e58f-47a3-8fcb-13979f0feaf2",
   "metadata": {},
   "outputs": [],
   "source": [
    "# I will filter for bus stops that fall along military trail by taking the string and grabbing all of the values that contain \"MILITARY TRL\"\n",
    "military_trl_stops = PB_busstops_df[PB_busstops_df[\"STOPNAME\"].str.contains(\"MILITARY TRL\", na=False)]"
   ]
  },
  {
   "cell_type": "code",
   "execution_count": 69,
   "id": "dd594e09-0fd0-43aa-b217-d322380142ad",
   "metadata": {},
   "outputs": [
    {
     "data": {
      "text/plain": [
       "(347, 28)"
      ]
     },
     "execution_count": 69,
     "metadata": {},
     "output_type": "execute_result"
    }
   ],
   "source": [
    "military_trl_stops.shape"
   ]
  },
  {
   "cell_type": "markdown",
   "id": "9a2f9a06-8928-496d-a8b8-8a821f055508",
   "metadata": {},
   "source": [
    "> That means that about 11.65% of all of the bus stops in Palm Beach County Falls on Military Trail!"
   ]
  },
  {
   "cell_type": "code",
   "execution_count": 72,
   "id": "3a4e5963-06f3-44de-a20a-84fe4721ea56",
   "metadata": {},
   "outputs": [
    {
     "data": {
      "image/png": "[encoded data removed]",
      "text/plain": [
       "<Figure size 640x480 with 1 Axes>"
      ]
     },
     "metadata": {},
     "output_type": "display_data"
    }
   ],
   "source": [
    "#Here is a bar chart showing the number of stops that land on Military Trail versus the other ones\n",
    "\n",
    "# Count the number of stops\n",
    "military_count = len(military_trl_stops)\n",
    "total_count = len(PB_busstops_df)\n",
    "non_military_count = total_count - military_count\n",
    "\n",
    "# Prepare data for the bar graph\n",
    "categories = ['Military TRL Stops', 'Other Stops']\n",
    "counts = [military_count, non_military_count]\n",
    "\n",
    "# Create the bar graph\n",
    "plt.bar(categories, counts, color=['blue', 'orange'])\n",
    "plt.ylabel('Number of Stops')\n",
    "plt.title('Comparison of Military TRL Stops vs Other Stops')\n",
    "plt.xticks(rotation=10)  # Rotate x labels if needed\n",
    "plt.show()"
   ]
  },
  {
   "cell_type": "code",
   "execution_count": null,
   "id": "28d1bf27-66d3-440c-a8fa-34ff3e8c04a9",
   "metadata": {},
   "outputs": [],
   "source": []
  }
 ],
 "metadata": {
  "kernelspec": {
   "display_name": "Python 3 (ipykernel)",
   "language": "python",
   "name": "python3"
  },
  "language_info": {
   "codemirror_mode": {
    "name": "ipython",
    "version": 3
   },
   "file_extension": ".py",
   "mimetype": "text/x-python",
   "name": "python",
   "nbconvert_exporter": "python",
   "pygments_lexer": "ipython3",
   "version": "3.11.6"
  }
 },
 "nbformat": 4,
 "nbformat_minor": 5
}
